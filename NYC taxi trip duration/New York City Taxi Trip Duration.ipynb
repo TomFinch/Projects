{
 "cells": [
  {
   "cell_type": "markdown",
   "metadata": {},
   "source": [
    "# New York City Taxi Trip Duration"
   ]
  },
  {
   "cell_type": "markdown",
   "metadata": {},
   "source": [
    "In this competition, Kaggle is challenging you to build a model that predicts the total ride duration of taxi trips in New York City. Your primary dataset is one released by the NYC Taxi and Limousine Commission, which includes pickup time, geo-coordinates, number of passengers, and several other variables."
   ]
  },
  {
   "cell_type": "markdown",
   "metadata": {},
   "source": [
    "The evaluation metric for this competition is Root Mean Squared Logarithmic Error.\n",
    "\n",
    "The RMSLE is calculated as\n",
    "\n",
    "                    ϵ=√1n∑i=1n(log(pi+1)−log(ai+1))2\n",
    "Where:\n",
    "\n",
    "- ϵ is the RMSLE value (score)\n",
    "- n is the total number of observations in the (public/private) data set,\n",
    "- pi is your prediction of trip duration, and\n",
    "- ai is the actual trip duration for ii. \n",
    "- log⁡(x) is the natural logarithm of x"
   ]
  },
  {
   "cell_type": "markdown",
   "metadata": {},
   "source": [
    "#### Note\n",
    "I decided to take part in this competition just to see how well i would perform. But i soon forget about it and only logged into my kaggle account after the competition ended. It allows for late submission though, so i was able to submit my predictions and get scored. "
   ]
  },
  {
   "cell_type": "code",
   "execution_count": 62,
   "metadata": {},
   "outputs": [
    {
     "data": {
      "text/html": [
       "<div>\n",
       "<style>\n",
       "    .dataframe thead tr:only-child th {\n",
       "        text-align: right;\n",
       "    }\n",
       "\n",
       "    .dataframe thead th {\n",
       "        text-align: left;\n",
       "    }\n",
       "\n",
       "    .dataframe tbody tr th {\n",
       "        vertical-align: top;\n",
       "    }\n",
       "</style>\n",
       "<table border=\"1\" class=\"dataframe\">\n",
       "  <thead>\n",
       "    <tr style=\"text-align: right;\">\n",
       "      <th></th>\n",
       "      <th>id</th>\n",
       "      <th>vendor_id</th>\n",
       "      <th>pickup_datetime</th>\n",
       "      <th>dropoff_datetime</th>\n",
       "      <th>passenger_count</th>\n",
       "      <th>pickup_longitude</th>\n",
       "      <th>pickup_latitude</th>\n",
       "      <th>dropoff_longitude</th>\n",
       "      <th>dropoff_latitude</th>\n",
       "      <th>store_and_fwd_flag</th>\n",
       "      <th>trip_duration</th>\n",
       "    </tr>\n",
       "  </thead>\n",
       "  <tbody>\n",
       "    <tr>\n",
       "      <th>0</th>\n",
       "      <td>id2875421</td>\n",
       "      <td>2</td>\n",
       "      <td>14/03/2016 17:24</td>\n",
       "      <td>14/03/2016 17:32</td>\n",
       "      <td>1</td>\n",
       "      <td>-73.982155</td>\n",
       "      <td>40.767937</td>\n",
       "      <td>-73.964630</td>\n",
       "      <td>40.765602</td>\n",
       "      <td>N</td>\n",
       "      <td>455</td>\n",
       "    </tr>\n",
       "    <tr>\n",
       "      <th>1</th>\n",
       "      <td>id2377394</td>\n",
       "      <td>1</td>\n",
       "      <td>12/06/2016 00:43</td>\n",
       "      <td>12/06/2016 00:54</td>\n",
       "      <td>1</td>\n",
       "      <td>-73.980415</td>\n",
       "      <td>40.738564</td>\n",
       "      <td>-73.999481</td>\n",
       "      <td>40.731152</td>\n",
       "      <td>N</td>\n",
       "      <td>663</td>\n",
       "    </tr>\n",
       "    <tr>\n",
       "      <th>2</th>\n",
       "      <td>id3858529</td>\n",
       "      <td>2</td>\n",
       "      <td>19/01/2016 11:35</td>\n",
       "      <td>19/01/2016 12:10</td>\n",
       "      <td>1</td>\n",
       "      <td>-73.979027</td>\n",
       "      <td>40.763939</td>\n",
       "      <td>-74.005333</td>\n",
       "      <td>40.710087</td>\n",
       "      <td>N</td>\n",
       "      <td>2124</td>\n",
       "    </tr>\n",
       "    <tr>\n",
       "      <th>3</th>\n",
       "      <td>id3504673</td>\n",
       "      <td>2</td>\n",
       "      <td>06/04/2016 19:32</td>\n",
       "      <td>06/04/2016 19:39</td>\n",
       "      <td>1</td>\n",
       "      <td>-74.010040</td>\n",
       "      <td>40.719971</td>\n",
       "      <td>-74.012268</td>\n",
       "      <td>40.706718</td>\n",
       "      <td>N</td>\n",
       "      <td>429</td>\n",
       "    </tr>\n",
       "    <tr>\n",
       "      <th>4</th>\n",
       "      <td>id2181028</td>\n",
       "      <td>2</td>\n",
       "      <td>26/03/2016 13:30</td>\n",
       "      <td>26/03/2016 13:38</td>\n",
       "      <td>1</td>\n",
       "      <td>-73.973053</td>\n",
       "      <td>40.793209</td>\n",
       "      <td>-73.972923</td>\n",
       "      <td>40.782520</td>\n",
       "      <td>N</td>\n",
       "      <td>435</td>\n",
       "    </tr>\n",
       "    <tr>\n",
       "      <th>5</th>\n",
       "      <td>id0801584</td>\n",
       "      <td>2</td>\n",
       "      <td>30/01/2016 22:01</td>\n",
       "      <td>30/01/2016 22:09</td>\n",
       "      <td>6</td>\n",
       "      <td>-73.982857</td>\n",
       "      <td>40.742195</td>\n",
       "      <td>-73.992081</td>\n",
       "      <td>40.749184</td>\n",
       "      <td>N</td>\n",
       "      <td>443</td>\n",
       "    </tr>\n",
       "    <tr>\n",
       "      <th>6</th>\n",
       "      <td>id1813257</td>\n",
       "      <td>1</td>\n",
       "      <td>17/06/2016 22:34</td>\n",
       "      <td>17/06/2016 22:40</td>\n",
       "      <td>4</td>\n",
       "      <td>-73.969017</td>\n",
       "      <td>40.757839</td>\n",
       "      <td>-73.957405</td>\n",
       "      <td>40.765896</td>\n",
       "      <td>N</td>\n",
       "      <td>341</td>\n",
       "    </tr>\n",
       "    <tr>\n",
       "      <th>7</th>\n",
       "      <td>id1324603</td>\n",
       "      <td>2</td>\n",
       "      <td>21/05/2016 07:54</td>\n",
       "      <td>21/05/2016 08:20</td>\n",
       "      <td>1</td>\n",
       "      <td>-73.969276</td>\n",
       "      <td>40.797779</td>\n",
       "      <td>-73.922470</td>\n",
       "      <td>40.760559</td>\n",
       "      <td>N</td>\n",
       "      <td>1551</td>\n",
       "    </tr>\n",
       "    <tr>\n",
       "      <th>8</th>\n",
       "      <td>id1301050</td>\n",
       "      <td>1</td>\n",
       "      <td>27/05/2016 23:12</td>\n",
       "      <td>27/05/2016 23:16</td>\n",
       "      <td>1</td>\n",
       "      <td>-73.999481</td>\n",
       "      <td>40.738400</td>\n",
       "      <td>-73.985786</td>\n",
       "      <td>40.732815</td>\n",
       "      <td>N</td>\n",
       "      <td>255</td>\n",
       "    </tr>\n",
       "    <tr>\n",
       "      <th>9</th>\n",
       "      <td>id0012891</td>\n",
       "      <td>2</td>\n",
       "      <td>10/03/2016 21:45</td>\n",
       "      <td>10/03/2016 22:05</td>\n",
       "      <td>1</td>\n",
       "      <td>-73.981049</td>\n",
       "      <td>40.744339</td>\n",
       "      <td>-73.973000</td>\n",
       "      <td>40.789989</td>\n",
       "      <td>N</td>\n",
       "      <td>1225</td>\n",
       "    </tr>\n",
       "  </tbody>\n",
       "</table>\n",
       "</div>"
      ],
      "text/plain": [
       "          id  vendor_id   pickup_datetime  dropoff_datetime  passenger_count  \\\n",
       "0  id2875421          2  14/03/2016 17:24  14/03/2016 17:32                1   \n",
       "1  id2377394          1  12/06/2016 00:43  12/06/2016 00:54                1   \n",
       "2  id3858529          2  19/01/2016 11:35  19/01/2016 12:10                1   \n",
       "3  id3504673          2  06/04/2016 19:32  06/04/2016 19:39                1   \n",
       "4  id2181028          2  26/03/2016 13:30  26/03/2016 13:38                1   \n",
       "5  id0801584          2  30/01/2016 22:01  30/01/2016 22:09                6   \n",
       "6  id1813257          1  17/06/2016 22:34  17/06/2016 22:40                4   \n",
       "7  id1324603          2  21/05/2016 07:54  21/05/2016 08:20                1   \n",
       "8  id1301050          1  27/05/2016 23:12  27/05/2016 23:16                1   \n",
       "9  id0012891          2  10/03/2016 21:45  10/03/2016 22:05                1   \n",
       "\n",
       "   pickup_longitude  pickup_latitude  dropoff_longitude  dropoff_latitude  \\\n",
       "0        -73.982155        40.767937         -73.964630         40.765602   \n",
       "1        -73.980415        40.738564         -73.999481         40.731152   \n",
       "2        -73.979027        40.763939         -74.005333         40.710087   \n",
       "3        -74.010040        40.719971         -74.012268         40.706718   \n",
       "4        -73.973053        40.793209         -73.972923         40.782520   \n",
       "5        -73.982857        40.742195         -73.992081         40.749184   \n",
       "6        -73.969017        40.757839         -73.957405         40.765896   \n",
       "7        -73.969276        40.797779         -73.922470         40.760559   \n",
       "8        -73.999481        40.738400         -73.985786         40.732815   \n",
       "9        -73.981049        40.744339         -73.973000         40.789989   \n",
       "\n",
       "  store_and_fwd_flag  trip_duration  \n",
       "0                  N            455  \n",
       "1                  N            663  \n",
       "2                  N           2124  \n",
       "3                  N            429  \n",
       "4                  N            435  \n",
       "5                  N            443  \n",
       "6                  N            341  \n",
       "7                  N           1551  \n",
       "8                  N            255  \n",
       "9                  N           1225  "
      ]
     },
     "execution_count": 62,
     "metadata": {},
     "output_type": "execute_result"
    }
   ],
   "source": [
    "#Let's read the training file\n",
    "import pandas as pd\n",
    "import numpy as np\n",
    "\n",
    "df = pd.read_csv('train.csv')\n",
    "\n",
    "df.head(10)"
   ]
  },
  {
   "cell_type": "code",
   "execution_count": 63,
   "metadata": {},
   "outputs": [
    {
     "data": {
      "text/plain": [
       "vendor_id               int64\n",
       "pickup_datetime        object\n",
       "passenger_count         int64\n",
       "pickup_longitude      float64\n",
       "pickup_latitude       float64\n",
       "dropoff_longitude     float64\n",
       "dropoff_latitude      float64\n",
       "store_and_fwd_flag     object\n",
       "trip_duration           int64\n",
       "dtype: object"
      ]
     },
     "execution_count": 63,
     "metadata": {},
     "output_type": "execute_result"
    }
   ],
   "source": [
    "#Let drop columns that would not be useful at all in our learning\n",
    "\n",
    "df.drop(labels = ['id', 'dropoff_datetime'], axis = 1, inplace = True)\n",
    "\n",
    "df.dtypes"
   ]
  },
  {
   "cell_type": "code",
   "execution_count": 64,
   "metadata": {
    "collapsed": true
   },
   "outputs": [],
   "source": [
    "#Let's now convert the object types to values that woul be useful for training\n",
    "df['pickup_datetime'] = pd.to_datetime(df['pickup_datetime'])\n",
    "df.store_and_fwd_flag = df.store_and_fwd_flag.map({'N': 0, 'Y': 1})\n"
   ]
  },
  {
   "cell_type": "code",
   "execution_count": 65,
   "metadata": {},
   "outputs": [
    {
     "data": {
      "text/html": [
       "<div>\n",
       "<style>\n",
       "    .dataframe thead tr:only-child th {\n",
       "        text-align: right;\n",
       "    }\n",
       "\n",
       "    .dataframe thead th {\n",
       "        text-align: left;\n",
       "    }\n",
       "\n",
       "    .dataframe tbody tr th {\n",
       "        vertical-align: top;\n",
       "    }\n",
       "</style>\n",
       "<table border=\"1\" class=\"dataframe\">\n",
       "  <thead>\n",
       "    <tr style=\"text-align: right;\">\n",
       "      <th></th>\n",
       "      <th>vendor_id</th>\n",
       "      <th>passenger_count</th>\n",
       "      <th>pickup_longitude</th>\n",
       "      <th>pickup_latitude</th>\n",
       "      <th>dropoff_longitude</th>\n",
       "      <th>dropoff_latitude</th>\n",
       "      <th>store_and_fwd_flag</th>\n",
       "      <th>trip_duration</th>\n",
       "    </tr>\n",
       "  </thead>\n",
       "  <tbody>\n",
       "    <tr>\n",
       "      <th>count</th>\n",
       "      <td>1.048575e+06</td>\n",
       "      <td>1.048575e+06</td>\n",
       "      <td>1.048575e+06</td>\n",
       "      <td>1.048575e+06</td>\n",
       "      <td>1.048575e+06</td>\n",
       "      <td>1.048575e+06</td>\n",
       "      <td>1.048575e+06</td>\n",
       "      <td>1.048575e+06</td>\n",
       "    </tr>\n",
       "    <tr>\n",
       "      <th>mean</th>\n",
       "      <td>1.534503e+00</td>\n",
       "      <td>1.664382e+00</td>\n",
       "      <td>-7.397342e+01</td>\n",
       "      <td>4.075094e+01</td>\n",
       "      <td>-7.397336e+01</td>\n",
       "      <td>4.075183e+01</td>\n",
       "      <td>5.539899e-03</td>\n",
       "      <td>9.621448e+02</td>\n",
       "    </tr>\n",
       "    <tr>\n",
       "      <th>std</th>\n",
       "      <td>4.988084e-01</td>\n",
       "      <td>1.314261e+00</td>\n",
       "      <td>4.280165e-02</td>\n",
       "      <td>3.381389e-02</td>\n",
       "      <td>4.274282e-02</td>\n",
       "      <td>3.645002e-02</td>\n",
       "      <td>7.422408e-02</td>\n",
       "      <td>5.853002e+03</td>\n",
       "    </tr>\n",
       "    <tr>\n",
       "      <th>min</th>\n",
       "      <td>1.000000e+00</td>\n",
       "      <td>0.000000e+00</td>\n",
       "      <td>-7.854740e+01</td>\n",
       "      <td>3.435970e+01</td>\n",
       "      <td>-7.981798e+01</td>\n",
       "      <td>3.218114e+01</td>\n",
       "      <td>0.000000e+00</td>\n",
       "      <td>1.000000e+00</td>\n",
       "    </tr>\n",
       "    <tr>\n",
       "      <th>25%</th>\n",
       "      <td>1.000000e+00</td>\n",
       "      <td>1.000000e+00</td>\n",
       "      <td>-7.399186e+01</td>\n",
       "      <td>4.073738e+01</td>\n",
       "      <td>-7.399131e+01</td>\n",
       "      <td>4.073594e+01</td>\n",
       "      <td>0.000000e+00</td>\n",
       "      <td>3.970000e+02</td>\n",
       "    </tr>\n",
       "    <tr>\n",
       "      <th>50%</th>\n",
       "      <td>2.000000e+00</td>\n",
       "      <td>1.000000e+00</td>\n",
       "      <td>-7.398174e+01</td>\n",
       "      <td>4.075415e+01</td>\n",
       "      <td>-7.397973e+01</td>\n",
       "      <td>4.075455e+01</td>\n",
       "      <td>0.000000e+00</td>\n",
       "      <td>6.620000e+02</td>\n",
       "    </tr>\n",
       "    <tr>\n",
       "      <th>75%</th>\n",
       "      <td>2.000000e+00</td>\n",
       "      <td>2.000000e+00</td>\n",
       "      <td>-7.396731e+01</td>\n",
       "      <td>4.076836e+01</td>\n",
       "      <td>-7.396301e+01</td>\n",
       "      <td>4.076984e+01</td>\n",
       "      <td>0.000000e+00</td>\n",
       "      <td>1.075000e+03</td>\n",
       "    </tr>\n",
       "    <tr>\n",
       "      <th>max</th>\n",
       "      <td>2.000000e+00</td>\n",
       "      <td>9.000000e+00</td>\n",
       "      <td>-6.133553e+01</td>\n",
       "      <td>5.188108e+01</td>\n",
       "      <td>-6.133553e+01</td>\n",
       "      <td>4.391176e+01</td>\n",
       "      <td>1.000000e+00</td>\n",
       "      <td>3.526282e+06</td>\n",
       "    </tr>\n",
       "  </tbody>\n",
       "</table>\n",
       "</div>"
      ],
      "text/plain": [
       "          vendor_id  passenger_count  pickup_longitude  pickup_latitude  \\\n",
       "count  1.048575e+06     1.048575e+06      1.048575e+06     1.048575e+06   \n",
       "mean   1.534503e+00     1.664382e+00     -7.397342e+01     4.075094e+01   \n",
       "std    4.988084e-01     1.314261e+00      4.280165e-02     3.381389e-02   \n",
       "min    1.000000e+00     0.000000e+00     -7.854740e+01     3.435970e+01   \n",
       "25%    1.000000e+00     1.000000e+00     -7.399186e+01     4.073738e+01   \n",
       "50%    2.000000e+00     1.000000e+00     -7.398174e+01     4.075415e+01   \n",
       "75%    2.000000e+00     2.000000e+00     -7.396731e+01     4.076836e+01   \n",
       "max    2.000000e+00     9.000000e+00     -6.133553e+01     5.188108e+01   \n",
       "\n",
       "       dropoff_longitude  dropoff_latitude  store_and_fwd_flag  trip_duration  \n",
       "count       1.048575e+06      1.048575e+06        1.048575e+06   1.048575e+06  \n",
       "mean       -7.397336e+01      4.075183e+01        5.539899e-03   9.621448e+02  \n",
       "std         4.274282e-02      3.645002e-02        7.422408e-02   5.853002e+03  \n",
       "min        -7.981798e+01      3.218114e+01        0.000000e+00   1.000000e+00  \n",
       "25%        -7.399131e+01      4.073594e+01        0.000000e+00   3.970000e+02  \n",
       "50%        -7.397973e+01      4.075455e+01        0.000000e+00   6.620000e+02  \n",
       "75%        -7.396301e+01      4.076984e+01        0.000000e+00   1.075000e+03  \n",
       "max        -6.133553e+01      4.391176e+01        1.000000e+00   3.526282e+06  "
      ]
     },
     "execution_count": 65,
     "metadata": {},
     "output_type": "execute_result"
    }
   ],
   "source": [
    "df.describe()"
   ]
  },
  {
   "cell_type": "markdown",
   "metadata": {},
   "source": [
    "Looking at the statistical distribution above, we would assume that the trip duration (measured in seconds), should not be below 4 minutes and not above 2.5 hours. Also, a passenger should be in the taxi to be counted as a trip, so we would remove rows with passenger_count = 0."
   ]
  },
  {
   "cell_type": "code",
   "execution_count": 66,
   "metadata": {},
   "outputs": [
    {
     "data": {
      "text/html": [
       "<div>\n",
       "<style>\n",
       "    .dataframe thead tr:only-child th {\n",
       "        text-align: right;\n",
       "    }\n",
       "\n",
       "    .dataframe thead th {\n",
       "        text-align: left;\n",
       "    }\n",
       "\n",
       "    .dataframe tbody tr th {\n",
       "        vertical-align: top;\n",
       "    }\n",
       "</style>\n",
       "<table border=\"1\" class=\"dataframe\">\n",
       "  <thead>\n",
       "    <tr style=\"text-align: right;\">\n",
       "      <th></th>\n",
       "      <th>vendor_id</th>\n",
       "      <th>passenger_count</th>\n",
       "      <th>pickup_longitude</th>\n",
       "      <th>pickup_latitude</th>\n",
       "      <th>dropoff_longitude</th>\n",
       "      <th>dropoff_latitude</th>\n",
       "      <th>store_and_fwd_flag</th>\n",
       "      <th>trip_duration</th>\n",
       "    </tr>\n",
       "  </thead>\n",
       "  <tbody>\n",
       "    <tr>\n",
       "      <th>count</th>\n",
       "      <td>947126.000000</td>\n",
       "      <td>947126.000000</td>\n",
       "      <td>947126.000000</td>\n",
       "      <td>947126.000000</td>\n",
       "      <td>947126.000000</td>\n",
       "      <td>947126.000000</td>\n",
       "      <td>947126.000000</td>\n",
       "      <td>947126.000000</td>\n",
       "    </tr>\n",
       "    <tr>\n",
       "      <th>mean</th>\n",
       "      <td>1.534804</td>\n",
       "      <td>1.668709</td>\n",
       "      <td>-73.973284</td>\n",
       "      <td>40.750299</td>\n",
       "      <td>-73.973261</td>\n",
       "      <td>40.751210</td>\n",
       "      <td>0.005617</td>\n",
       "      <td>907.204869</td>\n",
       "    </tr>\n",
       "    <tr>\n",
       "      <th>std</th>\n",
       "      <td>0.498787</td>\n",
       "      <td>1.315041</td>\n",
       "      <td>0.043283</td>\n",
       "      <td>0.034079</td>\n",
       "      <td>0.043239</td>\n",
       "      <td>0.036946</td>\n",
       "      <td>0.074736</td>\n",
       "      <td>651.411163</td>\n",
       "    </tr>\n",
       "    <tr>\n",
       "      <th>min</th>\n",
       "      <td>1.000000</td>\n",
       "      <td>1.000000</td>\n",
       "      <td>-78.547401</td>\n",
       "      <td>34.359695</td>\n",
       "      <td>-79.817978</td>\n",
       "      <td>32.181141</td>\n",
       "      <td>0.000000</td>\n",
       "      <td>240.000000</td>\n",
       "    </tr>\n",
       "    <tr>\n",
       "      <th>25%</th>\n",
       "      <td>1.000000</td>\n",
       "      <td>1.000000</td>\n",
       "      <td>-73.992058</td>\n",
       "      <td>40.736736</td>\n",
       "      <td>-73.991409</td>\n",
       "      <td>40.734879</td>\n",
       "      <td>0.000000</td>\n",
       "      <td>466.000000</td>\n",
       "    </tr>\n",
       "    <tr>\n",
       "      <th>50%</th>\n",
       "      <td>2.000000</td>\n",
       "      <td>1.000000</td>\n",
       "      <td>-73.981956</td>\n",
       "      <td>40.753422</td>\n",
       "      <td>-73.979904</td>\n",
       "      <td>40.753979</td>\n",
       "      <td>0.000000</td>\n",
       "      <td>722.000000</td>\n",
       "    </tr>\n",
       "    <tr>\n",
       "      <th>75%</th>\n",
       "      <td>2.000000</td>\n",
       "      <td>2.000000</td>\n",
       "      <td>-73.967934</td>\n",
       "      <td>40.767696</td>\n",
       "      <td>-73.963272</td>\n",
       "      <td>40.768936</td>\n",
       "      <td>0.000000</td>\n",
       "      <td>1132.000000</td>\n",
       "    </tr>\n",
       "    <tr>\n",
       "      <th>max</th>\n",
       "      <td>2.000000</td>\n",
       "      <td>9.000000</td>\n",
       "      <td>-61.335529</td>\n",
       "      <td>51.881084</td>\n",
       "      <td>-61.335529</td>\n",
       "      <td>43.911762</td>\n",
       "      <td>1.000000</td>\n",
       "      <td>8899.000000</td>\n",
       "    </tr>\n",
       "  </tbody>\n",
       "</table>\n",
       "</div>"
      ],
      "text/plain": [
       "           vendor_id  passenger_count  pickup_longitude  pickup_latitude  \\\n",
       "count  947126.000000    947126.000000     947126.000000    947126.000000   \n",
       "mean        1.534804         1.668709        -73.973284        40.750299   \n",
       "std         0.498787         1.315041          0.043283         0.034079   \n",
       "min         1.000000         1.000000        -78.547401        34.359695   \n",
       "25%         1.000000         1.000000        -73.992058        40.736736   \n",
       "50%         2.000000         1.000000        -73.981956        40.753422   \n",
       "75%         2.000000         2.000000        -73.967934        40.767696   \n",
       "max         2.000000         9.000000        -61.335529        51.881084   \n",
       "\n",
       "       dropoff_longitude  dropoff_latitude  store_and_fwd_flag  trip_duration  \n",
       "count      947126.000000     947126.000000       947126.000000  947126.000000  \n",
       "mean          -73.973261         40.751210            0.005617     907.204869  \n",
       "std             0.043239          0.036946            0.074736     651.411163  \n",
       "min           -79.817978         32.181141            0.000000     240.000000  \n",
       "25%           -73.991409         40.734879            0.000000     466.000000  \n",
       "50%           -73.979904         40.753979            0.000000     722.000000  \n",
       "75%           -73.963272         40.768936            0.000000    1132.000000  \n",
       "max           -61.335529         43.911762            1.000000    8899.000000  "
      ]
     },
     "execution_count": 66,
     "metadata": {},
     "output_type": "execute_result"
    }
   ],
   "source": [
    "df = df[df.passenger_count != 0]\n",
    "df.drop(df[(df['trip_duration'] < 240) | (df['trip_duration'] > 9000)].index, inplace=True)\n",
    "df.describe()"
   ]
  },
  {
   "cell_type": "code",
   "execution_count": 67,
   "metadata": {},
   "outputs": [
    {
     "data": {
      "text/plain": [
       "(947126, 9)"
      ]
     },
     "execution_count": 67,
     "metadata": {},
     "output_type": "execute_result"
    }
   ],
   "source": [
    "df.shape"
   ]
  },
  {
   "cell_type": "markdown",
   "metadata": {},
   "source": [
    "### Detecting outliers"
   ]
  },
  {
   "cell_type": "markdown",
   "metadata": {},
   "source": [
    "We would use a scatter plot to detect and remove outliers in the data"
   ]
  },
  {
   "cell_type": "code",
   "execution_count": 68,
   "metadata": {
    "collapsed": true
   },
   "outputs": [],
   "source": [
    "import seaborn as sns\n",
    "import matplotlib\n",
    "import matplotlib.pyplot as plt\n",
    "matplotlib.style.use('ggplot')\n",
    "%matplotlib inline"
   ]
  },
  {
   "cell_type": "code",
   "execution_count": 69,
   "metadata": {},
   "outputs": [
    {
     "data": {
      "image/png": "[encoded data removed]",
      "text/plain": [
       "<matplotlib.figure.Figure at 0x1cbb368fe10>"
      ]
     },
     "metadata": {},
     "output_type": "display_data"
    },
    {
     "data": {
      "image/png": "[encoded data removed]",
      "text/plain": [
       "<matplotlib.figure.Figure at 0x1cc0333cef0>"
      ]
     },
     "metadata": {},
     "output_type": "display_data"
    }
   ],
   "source": [
    "\n",
    "df.plot.scatter(x = 'dropoff_latitude', y = 'dropoff_longitude')\n",
    "plt.xlabel('dropoff_latitude')\n",
    "plt.ylabel('dropoff_longitude')\n",
    "plt.show()\n",
    "\n",
    "df.plot.scatter(x = 'pickup_latitude', y = 'pickup_longitude')\n",
    "plt.xlabel('pickup_latitude')\n",
    "plt.ylabel('pickup_longitude')\n",
    "\n",
    "plt.show()"
   ]
  },
  {
   "cell_type": "code",
   "execution_count": 70,
   "metadata": {
    "collapsed": true
   },
   "outputs": [],
   "source": [
    "df.drop(df[(df['pickup_latitude'] < 40) | (df['pickup_latitude'] > 42.5)].index, inplace=True)\n",
    "df.drop(df[(df['pickup_longitude'] < -75) | (df['pickup_longitude'] > -72.5)].index, inplace=True)\n",
    "df.drop(df[(df['dropoff_longitude'] < -76) | (df['dropoff_longitude'] > -72)].index, inplace=True)\n",
    "df.drop(df[(df['dropoff_latitude'] < 40) | (df['dropoff_latitude'] > 42)].index, inplace=True)"
   ]
  },
  {
   "cell_type": "code",
   "execution_count": 71,
   "metadata": {},
   "outputs": [
    {
     "name": "stdout",
     "output_type": "stream",
     "text": [
      "vendor_id             0\n",
      "pickup_datetime       0\n",
      "passenger_count       0\n",
      "pickup_longitude      0\n",
      "pickup_latitude       0\n",
      "dropoff_longitude     0\n",
      "dropoff_latitude      0\n",
      "store_and_fwd_flag    0\n",
      "trip_duration         0\n",
      "dtype: int64\n"
     ]
    }
   ],
   "source": [
    "print(df.isnull().sum())"
   ]
  },
  {
   "cell_type": "markdown",
   "metadata": {},
   "source": [
    "No null values in the current dataset.\n",
    "Now we create a correlation matrix to see how much correlation amongst columns there is."
   ]
  },
  {
   "cell_type": "code",
   "execution_count": 72,
   "metadata": {},
   "outputs": [
    {
     "data": {
      "text/html": [
       "<div>\n",
       "<style>\n",
       "    .dataframe thead tr:only-child th {\n",
       "        text-align: right;\n",
       "    }\n",
       "\n",
       "    .dataframe thead th {\n",
       "        text-align: left;\n",
       "    }\n",
       "\n",
       "    .dataframe tbody tr th {\n",
       "        vertical-align: top;\n",
       "    }\n",
       "</style>\n",
       "<table border=\"1\" class=\"dataframe\">\n",
       "  <thead>\n",
       "    <tr style=\"text-align: right;\">\n",
       "      <th></th>\n",
       "      <th>vendor_id</th>\n",
       "      <th>passenger_count</th>\n",
       "      <th>pickup_longitude</th>\n",
       "      <th>pickup_latitude</th>\n",
       "      <th>dropoff_longitude</th>\n",
       "      <th>dropoff_latitude</th>\n",
       "      <th>store_and_fwd_flag</th>\n",
       "      <th>trip_duration</th>\n",
       "    </tr>\n",
       "  </thead>\n",
       "  <tbody>\n",
       "    <tr>\n",
       "      <th>vendor_id</th>\n",
       "      <td>1.000000</td>\n",
       "      <td>0.283970</td>\n",
       "      <td>0.019389</td>\n",
       "      <td>0.000947</td>\n",
       "      <td>0.006519</td>\n",
       "      <td>0.004437</td>\n",
       "      <td>-0.080587</td>\n",
       "      <td>0.007154</td>\n",
       "    </tr>\n",
       "    <tr>\n",
       "      <th>passenger_count</th>\n",
       "      <td>0.283970</td>\n",
       "      <td>1.000000</td>\n",
       "      <td>0.005322</td>\n",
       "      <td>-0.005859</td>\n",
       "      <td>0.000702</td>\n",
       "      <td>-0.002566</td>\n",
       "      <td>-0.021793</td>\n",
       "      <td>0.010989</td>\n",
       "    </tr>\n",
       "    <tr>\n",
       "      <th>pickup_longitude</th>\n",
       "      <td>0.019389</td>\n",
       "      <td>0.005322</td>\n",
       "      <td>1.000000</td>\n",
       "      <td>-0.166401</td>\n",
       "      <td>0.231121</td>\n",
       "      <td>0.037327</td>\n",
       "      <td>0.019901</td>\n",
       "      <td>0.388209</td>\n",
       "    </tr>\n",
       "    <tr>\n",
       "      <th>pickup_latitude</th>\n",
       "      <td>0.000947</td>\n",
       "      <td>-0.005859</td>\n",
       "      <td>-0.166401</td>\n",
       "      <td>1.000000</td>\n",
       "      <td>0.044355</td>\n",
       "      <td>0.383872</td>\n",
       "      <td>-0.009602</td>\n",
       "      <td>-0.235465</td>\n",
       "    </tr>\n",
       "    <tr>\n",
       "      <th>dropoff_longitude</th>\n",
       "      <td>0.006519</td>\n",
       "      <td>0.000702</td>\n",
       "      <td>0.231121</td>\n",
       "      <td>0.044355</td>\n",
       "      <td>1.000000</td>\n",
       "      <td>0.131259</td>\n",
       "      <td>0.015267</td>\n",
       "      <td>0.238389</td>\n",
       "    </tr>\n",
       "    <tr>\n",
       "      <th>dropoff_latitude</th>\n",
       "      <td>0.004437</td>\n",
       "      <td>-0.002566</td>\n",
       "      <td>0.037327</td>\n",
       "      <td>0.383872</td>\n",
       "      <td>0.131259</td>\n",
       "      <td>1.000000</td>\n",
       "      <td>-0.010138</td>\n",
       "      <td>-0.174867</td>\n",
       "    </tr>\n",
       "    <tr>\n",
       "      <th>store_and_fwd_flag</th>\n",
       "      <td>-0.080587</td>\n",
       "      <td>-0.021793</td>\n",
       "      <td>0.019901</td>\n",
       "      <td>-0.009602</td>\n",
       "      <td>0.015267</td>\n",
       "      <td>-0.010138</td>\n",
       "      <td>1.000000</td>\n",
       "      <td>0.029253</td>\n",
       "    </tr>\n",
       "    <tr>\n",
       "      <th>trip_duration</th>\n",
       "      <td>0.007154</td>\n",
       "      <td>0.010989</td>\n",
       "      <td>0.388209</td>\n",
       "      <td>-0.235465</td>\n",
       "      <td>0.238389</td>\n",
       "      <td>-0.174867</td>\n",
       "      <td>0.029253</td>\n",
       "      <td>1.000000</td>\n",
       "    </tr>\n",
       "  </tbody>\n",
       "</table>\n",
       "</div>"
      ],
      "text/plain": [
       "                    vendor_id  passenger_count  pickup_longitude  \\\n",
       "vendor_id            1.000000         0.283970          0.019389   \n",
       "passenger_count      0.283970         1.000000          0.005322   \n",
       "pickup_longitude     0.019389         0.005322          1.000000   \n",
       "pickup_latitude      0.000947        -0.005859         -0.166401   \n",
       "dropoff_longitude    0.006519         0.000702          0.231121   \n",
       "dropoff_latitude     0.004437        -0.002566          0.037327   \n",
       "store_and_fwd_flag  -0.080587        -0.021793          0.019901   \n",
       "trip_duration        0.007154         0.010989          0.388209   \n",
       "\n",
       "                    pickup_latitude  dropoff_longitude  dropoff_latitude  \\\n",
       "vendor_id                  0.000947           0.006519          0.004437   \n",
       "passenger_count           -0.005859           0.000702         -0.002566   \n",
       "pickup_longitude          -0.166401           0.231121          0.037327   \n",
       "pickup_latitude            1.000000           0.044355          0.383872   \n",
       "dropoff_longitude          0.044355           1.000000          0.131259   \n",
       "dropoff_latitude           0.383872           0.131259          1.000000   \n",
       "store_and_fwd_flag        -0.009602           0.015267         -0.010138   \n",
       "trip_duration             -0.235465           0.238389         -0.174867   \n",
       "\n",
       "                    store_and_fwd_flag  trip_duration  \n",
       "vendor_id                    -0.080587       0.007154  \n",
       "passenger_count              -0.021793       0.010989  \n",
       "pickup_longitude              0.019901       0.388209  \n",
       "pickup_latitude              -0.009602      -0.235465  \n",
       "dropoff_longitude             0.015267       0.238389  \n",
       "dropoff_latitude             -0.010138      -0.174867  \n",
       "store_and_fwd_flag            1.000000       0.029253  \n",
       "trip_duration                 0.029253       1.000000  "
      ]
     },
     "execution_count": 72,
     "metadata": {},
     "output_type": "execute_result"
    },
    {
     "data": {
      "image/png": "[encoded data removed]",
      "text/plain": [
       "<matplotlib.figure.Figure at 0x1cb86095a20>"
      ]
     },
     "metadata": {},
     "output_type": "display_data"
    }
   ],
   "source": [
    "#Correlation Matrix\n",
    "corr = df.corr()\n",
    "corr = (corr)\n",
    "sns.heatmap(corr,\n",
    "xticklabels=corr.columns.values,\n",
    "yticklabels=corr.columns.values)\n",
    "sns.plt.title('Heatmap of Correlation Matrix')\n",
    "corr"
   ]
  },
  {
   "cell_type": "markdown",
   "metadata": {},
   "source": [
    "From this correletion matrix, we can see that 'vendor_id', 'passenger_count' and 'store_and_fwd_flag' have very little correlation with our target column - trip_duration. We can decide to remove thos columns, but let's first check the feature importances."
   ]
  },
  {
   "cell_type": "markdown",
   "metadata": {},
   "source": [
    "### Feature Engineering"
   ]
  },
  {
   "cell_type": "markdown",
   "metadata": {},
   "source": [
    "We would create more features from the pickup_datetime column. This is enable better training on our dataset."
   ]
  },
  {
   "cell_type": "code",
   "execution_count": 73,
   "metadata": {},
   "outputs": [
    {
     "data": {
      "text/html": [
       "<div>\n",
       "<style>\n",
       "    .dataframe thead tr:only-child th {\n",
       "        text-align: right;\n",
       "    }\n",
       "\n",
       "    .dataframe thead th {\n",
       "        text-align: left;\n",
       "    }\n",
       "\n",
       "    .dataframe tbody tr th {\n",
       "        vertical-align: top;\n",
       "    }\n",
       "</style>\n",
       "<table border=\"1\" class=\"dataframe\">\n",
       "  <thead>\n",
       "    <tr style=\"text-align: right;\">\n",
       "      <th></th>\n",
       "      <th>vendor_id</th>\n",
       "      <th>passenger_count</th>\n",
       "      <th>pickup_longitude</th>\n",
       "      <th>pickup_latitude</th>\n",
       "      <th>dropoff_longitude</th>\n",
       "      <th>dropoff_latitude</th>\n",
       "      <th>store_and_fwd_flag</th>\n",
       "      <th>trip_duration</th>\n",
       "      <th>month</th>\n",
       "      <th>weekday</th>\n",
       "      <th>day</th>\n",
       "      <th>hour</th>\n",
       "      <th>minute</th>\n",
       "    </tr>\n",
       "  </thead>\n",
       "  <tbody>\n",
       "    <tr>\n",
       "      <th>0</th>\n",
       "      <td>2</td>\n",
       "      <td>1</td>\n",
       "      <td>-73.982155</td>\n",
       "      <td>40.767937</td>\n",
       "      <td>-73.964630</td>\n",
       "      <td>40.765602</td>\n",
       "      <td>0</td>\n",
       "      <td>455</td>\n",
       "      <td>3</td>\n",
       "      <td>0</td>\n",
       "      <td>74</td>\n",
       "      <td>17</td>\n",
       "      <td>24</td>\n",
       "    </tr>\n",
       "    <tr>\n",
       "      <th>1</th>\n",
       "      <td>1</td>\n",
       "      <td>1</td>\n",
       "      <td>-73.980415</td>\n",
       "      <td>40.738564</td>\n",
       "      <td>-73.999481</td>\n",
       "      <td>40.731152</td>\n",
       "      <td>0</td>\n",
       "      <td>663</td>\n",
       "      <td>12</td>\n",
       "      <td>1</td>\n",
       "      <td>85</td>\n",
       "      <td>0</td>\n",
       "      <td>43</td>\n",
       "    </tr>\n",
       "    <tr>\n",
       "      <th>2</th>\n",
       "      <td>2</td>\n",
       "      <td>1</td>\n",
       "      <td>-73.979027</td>\n",
       "      <td>40.763939</td>\n",
       "      <td>-74.005333</td>\n",
       "      <td>40.710087</td>\n",
       "      <td>0</td>\n",
       "      <td>2124</td>\n",
       "      <td>1</td>\n",
       "      <td>1</td>\n",
       "      <td>19</td>\n",
       "      <td>11</td>\n",
       "      <td>35</td>\n",
       "    </tr>\n",
       "    <tr>\n",
       "      <th>3</th>\n",
       "      <td>2</td>\n",
       "      <td>1</td>\n",
       "      <td>-74.010040</td>\n",
       "      <td>40.719971</td>\n",
       "      <td>-74.012268</td>\n",
       "      <td>40.706718</td>\n",
       "      <td>0</td>\n",
       "      <td>429</td>\n",
       "      <td>6</td>\n",
       "      <td>5</td>\n",
       "      <td>-100</td>\n",
       "      <td>19</td>\n",
       "      <td>32</td>\n",
       "    </tr>\n",
       "    <tr>\n",
       "      <th>4</th>\n",
       "      <td>2</td>\n",
       "      <td>1</td>\n",
       "      <td>-73.973053</td>\n",
       "      <td>40.793209</td>\n",
       "      <td>-73.972923</td>\n",
       "      <td>40.782520</td>\n",
       "      <td>0</td>\n",
       "      <td>435</td>\n",
       "      <td>3</td>\n",
       "      <td>5</td>\n",
       "      <td>86</td>\n",
       "      <td>13</td>\n",
       "      <td>30</td>\n",
       "    </tr>\n",
       "    <tr>\n",
       "      <th>5</th>\n",
       "      <td>2</td>\n",
       "      <td>6</td>\n",
       "      <td>-73.982857</td>\n",
       "      <td>40.742195</td>\n",
       "      <td>-73.992081</td>\n",
       "      <td>40.749184</td>\n",
       "      <td>0</td>\n",
       "      <td>443</td>\n",
       "      <td>1</td>\n",
       "      <td>5</td>\n",
       "      <td>30</td>\n",
       "      <td>22</td>\n",
       "      <td>1</td>\n",
       "    </tr>\n",
       "    <tr>\n",
       "      <th>6</th>\n",
       "      <td>1</td>\n",
       "      <td>4</td>\n",
       "      <td>-73.969017</td>\n",
       "      <td>40.757839</td>\n",
       "      <td>-73.957405</td>\n",
       "      <td>40.765896</td>\n",
       "      <td>0</td>\n",
       "      <td>341</td>\n",
       "      <td>6</td>\n",
       "      <td>4</td>\n",
       "      <td>-87</td>\n",
       "      <td>22</td>\n",
       "      <td>34</td>\n",
       "    </tr>\n",
       "    <tr>\n",
       "      <th>7</th>\n",
       "      <td>2</td>\n",
       "      <td>1</td>\n",
       "      <td>-73.969276</td>\n",
       "      <td>40.797779</td>\n",
       "      <td>-73.922470</td>\n",
       "      <td>40.760559</td>\n",
       "      <td>0</td>\n",
       "      <td>1551</td>\n",
       "      <td>5</td>\n",
       "      <td>5</td>\n",
       "      <td>-114</td>\n",
       "      <td>7</td>\n",
       "      <td>54</td>\n",
       "    </tr>\n",
       "    <tr>\n",
       "      <th>8</th>\n",
       "      <td>1</td>\n",
       "      <td>1</td>\n",
       "      <td>-73.999481</td>\n",
       "      <td>40.738400</td>\n",
       "      <td>-73.985786</td>\n",
       "      <td>40.732815</td>\n",
       "      <td>0</td>\n",
       "      <td>255</td>\n",
       "      <td>5</td>\n",
       "      <td>4</td>\n",
       "      <td>-108</td>\n",
       "      <td>23</td>\n",
       "      <td>12</td>\n",
       "    </tr>\n",
       "    <tr>\n",
       "      <th>9</th>\n",
       "      <td>2</td>\n",
       "      <td>1</td>\n",
       "      <td>-73.981049</td>\n",
       "      <td>40.744339</td>\n",
       "      <td>-73.973000</td>\n",
       "      <td>40.789989</td>\n",
       "      <td>0</td>\n",
       "      <td>1225</td>\n",
       "      <td>10</td>\n",
       "      <td>0</td>\n",
       "      <td>21</td>\n",
       "      <td>21</td>\n",
       "      <td>45</td>\n",
       "    </tr>\n",
       "  </tbody>\n",
       "</table>\n",
       "</div>"
      ],
      "text/plain": [
       "   vendor_id  passenger_count  pickup_longitude  pickup_latitude  \\\n",
       "0          2                1        -73.982155        40.767937   \n",
       "1          1                1        -73.980415        40.738564   \n",
       "2          2                1        -73.979027        40.763939   \n",
       "3          2                1        -74.010040        40.719971   \n",
       "4          2                1        -73.973053        40.793209   \n",
       "5          2                6        -73.982857        40.742195   \n",
       "6          1                4        -73.969017        40.757839   \n",
       "7          2                1        -73.969276        40.797779   \n",
       "8          1                1        -73.999481        40.738400   \n",
       "9          2                1        -73.981049        40.744339   \n",
       "\n",
       "   dropoff_longitude  dropoff_latitude  store_and_fwd_flag  trip_duration  \\\n",
       "0         -73.964630         40.765602                   0            455   \n",
       "1         -73.999481         40.731152                   0            663   \n",
       "2         -74.005333         40.710087                   0           2124   \n",
       "3         -74.012268         40.706718                   0            429   \n",
       "4         -73.972923         40.782520                   0            435   \n",
       "5         -73.992081         40.749184                   0            443   \n",
       "6         -73.957405         40.765896                   0            341   \n",
       "7         -73.922470         40.760559                   0           1551   \n",
       "8         -73.985786         40.732815                   0            255   \n",
       "9         -73.973000         40.789989                   0           1225   \n",
       "\n",
       "   month  weekday  day  hour  minute  \n",
       "0      3        0   74    17      24  \n",
       "1     12        1   85     0      43  \n",
       "2      1        1   19    11      35  \n",
       "3      6        5 -100    19      32  \n",
       "4      3        5   86    13      30  \n",
       "5      1        5   30    22       1  \n",
       "6      6        4  -87    22      34  \n",
       "7      5        5 -114     7      54  \n",
       "8      5        4 -108    23      12  \n",
       "9     10        0   21    21      45  "
      ]
     },
     "execution_count": 73,
     "metadata": {},
     "output_type": "execute_result"
    }
   ],
   "source": [
    "df['month'] = df.pickup_datetime.dt.month.astype(np.int8)\n",
    "df['weekday'] = df.pickup_datetime.dt.weekday.astype(np.int8)\n",
    "df['day'] = df.pickup_datetime.dt.dayofyear.astype(np.int8)\n",
    "df['hour'] = df.pickup_datetime.dt.hour.astype(np.int8)\n",
    "df['minute'] = df.pickup_datetime.dt.minute.astype(np.int8)\n",
    "\n",
    "df.drop(labels = ['pickup_datetime'], axis = 1, inplace = True)\n",
    "df.head(10)"
   ]
  },
  {
   "cell_type": "code",
   "execution_count": 74,
   "metadata": {},
   "outputs": [
    {
     "data": {
      "text/plain": [
       "vendor_id               int64\n",
       "passenger_count         int64\n",
       "pickup_longitude      float64\n",
       "pickup_latitude       float64\n",
       "dropoff_longitude     float64\n",
       "dropoff_latitude      float64\n",
       "store_and_fwd_flag      int64\n",
       "trip_duration           int64\n",
       "month                    int8\n",
       "weekday                  int8\n",
       "day                      int8\n",
       "hour                     int8\n",
       "minute                   int8\n",
       "dtype: object"
      ]
     },
     "execution_count": 74,
     "metadata": {},
     "output_type": "execute_result"
    }
   ],
   "source": [
    "df.dtypes"
   ]
  },
  {
   "cell_type": "markdown",
   "metadata": {},
   "source": [
    "### Prediction"
   ]
  },
  {
   "cell_type": "code",
   "execution_count": 75,
   "metadata": {
    "collapsed": true
   },
   "outputs": [],
   "source": [
    "y = df['trip_duration']\n",
    "X = df.drop(labels=['trip_duration'], axis=1)\n",
    "\n",
    "from sklearn.model_selection import train_test_split\n",
    "X_train, X_test, y_train, y_test = train_test_split(X, y, test_size=0.25, random_state=275)"
   ]
  },
  {
   "cell_type": "code",
   "execution_count": 76,
   "metadata": {
    "collapsed": true
   },
   "outputs": [],
   "source": [
    "from sklearn.ensemble import RandomForestRegressor\n",
    "from sklearn import metrics"
   ]
  },
  {
   "cell_type": "code",
   "execution_count": 77,
   "metadata": {},
   "outputs": [
    {
     "name": "stdout",
     "output_type": "stream",
     "text": [
      "Score:  74.835\n",
      "Training Score:  89.962\n",
      "Mean Absolute Error:  214.272091854\n",
      "R2 Score:  0.748351936699\n",
      "Mean Squared Error:  108310.387782\n"
     ]
    }
   ],
   "source": [
    "model = RandomForestRegressor(min_samples_leaf = 2, max_depth = 30, max_features = 'log2', n_estimators = 150)\n",
    "model.fit(X_train, y_train)\n",
    "score = model.score(X_test, y_test)\n",
    "train_score = model.score(X_train, y_train)\n",
    "\n",
    "# make predictions for test data\n",
    "y_pred = model.predict(X_test)\n",
    "\n",
    "print (\"Score: \", round(score*100, 3))\n",
    "print (\"Training Score: \", round(train_score*100, 3))\n",
    "print (\"Mean Absolute Error: \", metrics.mean_absolute_error(y_test, y_pred))\n",
    "print (\"R2 Score: \", metrics.r2_score(y_test, y_pred))\n",
    "print (\"Mean Squared Error: \", metrics.mean_squared_error(y_test, y_pred))"
   ]
  },
  {
   "cell_type": "markdown",
   "metadata": {},
   "source": [
    "#### Feature Importance\n",
    "To determine which of these features were most important to our training."
   ]
  },
  {
   "cell_type": "code",
   "execution_count": 78,
   "metadata": {},
   "outputs": [
    {
     "data": {
      "image/png": "[encoded data removed]",
      "text/plain": [
       "<matplotlib.figure.Figure at 0x1cb923c3390>"
      ]
     },
     "metadata": {},
     "output_type": "display_data"
    }
   ],
   "source": [
    "\n",
    "fimp = model.feature_importances_\n",
    "\n",
    "importance_frame = pd.DataFrame({'Importance': list(fimp), 'Feature': list(X.columns)})\n",
    "importance_frame.sort_values(by = 'Importance', inplace = True)\n",
    "importance_frame.plot(kind = 'barh', x = 'Feature', figsize = (8,8), color = 'red')\n",
    "plt.show()"
   ]
  },
  {
   "cell_type": "markdown",
   "metadata": {},
   "source": [
    "Now to experiment by removing the weaker feature importances and seeing if there would be an improvement in scores"
   ]
  },
  {
   "cell_type": "code",
   "execution_count": 79,
   "metadata": {},
   "outputs": [
    {
     "name": "stdout",
     "output_type": "stream",
     "text": [
      "   pickup_longitude  pickup_latitude  dropoff_longitude  dropoff_latitude  \\\n",
      "0        -73.982155        40.767937         -73.964630         40.765602   \n",
      "1        -73.980415        40.738564         -73.999481         40.731152   \n",
      "2        -73.979027        40.763939         -74.005333         40.710087   \n",
      "3        -74.010040        40.719971         -74.012268         40.706718   \n",
      "4        -73.973053        40.793209         -73.972923         40.782520   \n",
      "5        -73.982857        40.742195         -73.992081         40.749184   \n",
      "6        -73.969017        40.757839         -73.957405         40.765896   \n",
      "7        -73.969276        40.797779         -73.922470         40.760559   \n",
      "8        -73.999481        40.738400         -73.985786         40.732815   \n",
      "9        -73.981049        40.744339         -73.973000         40.789989   \n",
      "\n",
      "   trip_duration  month  weekday  day  hour  minute  \n",
      "0            455      3        0   74    17      24  \n",
      "1            663     12        1   85     0      43  \n",
      "2           2124      1        1   19    11      35  \n",
      "3            429      6        5 -100    19      32  \n",
      "4            435      3        5   86    13      30  \n",
      "5            443      1        5   30    22       1  \n",
      "6            341      6        4  -87    22      34  \n",
      "7           1551      5        5 -114     7      54  \n",
      "8            255      5        4 -108    23      12  \n",
      "9           1225     10        0   21    21      45  \n"
     ]
    }
   ],
   "source": [
    "new_df = df.drop(labels = ['vendor_id', 'passenger_count', 'store_and_fwd_flag'], axis = 1)\n",
    "\n",
    "print(new_df.head(10))"
   ]
  },
  {
   "cell_type": "code",
   "execution_count": 80,
   "metadata": {
    "collapsed": true
   },
   "outputs": [],
   "source": [
    "new_y = new_df['trip_duration']\n",
    "new_X = new_df.drop(labels=['trip_duration'], axis=1)\n",
    "\n",
    "from sklearn.model_selection import train_test_split\n",
    "newX_train, newX_test, newy_train, newy_test = train_test_split(new_X, new_y, test_size=0.25, random_state=275)"
   ]
  },
  {
   "cell_type": "code",
   "execution_count": 81,
   "metadata": {
    "collapsed": true
   },
   "outputs": [],
   "source": [
    "from sklearn.ensemble import RandomForestRegressor\n",
    "from sklearn import metrics"
   ]
  },
  {
   "cell_type": "code",
   "execution_count": 85,
   "metadata": {},
   "outputs": [
    {
     "name": "stdout",
     "output_type": "stream",
     "text": [
      "Test Score:  76.018\n",
      "Training Score:  91.16\n",
      "Mean Absolute Error:  204.94093875\n",
      "R2 Score:  0.760178183986\n",
      "Mean Squared Error:  103220.321072\n"
     ]
    }
   ],
   "source": [
    "model2 = RandomForestRegressor(min_samples_leaf = 2, max_depth = 30, max_features = 'log2', n_estimators = 150)\n",
    "model2.fit(newX_train, newy_train)\n",
    "score = model2.score(newX_test, newy_test)\n",
    "train_score = model2.score(newX_train, newy_train)\n",
    "\n",
    "# make predictions for test data\n",
    "newy_pred = model2.predict(newX_test)\n",
    "\n",
    "print (\"Test Score: \", round(score*100, 3))\n",
    "print (\"Training Score: \", round(train_score*100, 3))\n",
    "print (\"Mean Absolute Error: \", metrics.mean_absolute_error(newy_test, newy_pred))\n",
    "print (\"R2 Score: \", metrics.r2_score(newy_test, newy_pred))\n",
    "print (\"Mean Squared Error: \", metrics.mean_squared_error(newy_test, newy_pred))"
   ]
  },
  {
   "cell_type": "markdown",
   "metadata": {},
   "source": [
    "#### Root Mean Squared Logarithmic Error\n",
    "The Root Mean Squared Logarithmic Error will now be used to score the power of this model."
   ]
  },
  {
   "cell_type": "code",
   "execution_count": 86,
   "metadata": {
    "collapsed": true
   },
   "outputs": [],
   "source": [
    "from sklearn.metrics import make_scorer\n",
    "\n",
    "def rmsle(y, y0):\n",
    "    assert len(y) == len(y0)\n",
    "    return np.sqrt(np.mean(np.power(np.log1p(y)-np.log1p(y0), 2)))\n",
    "rmsle_scorer = make_scorer(rmsle, greater_is_better=False)"
   ]
  },
  {
   "cell_type": "code",
   "execution_count": 87,
   "metadata": {},
   "outputs": [
    {
     "name": "stdout",
     "output_type": "stream",
     "text": [
      "root mean squared logarithmic error:  0.332540439835\n",
      "root mean squared logarithmic error:  0.314153114263\n"
     ]
    }
   ],
   "source": [
    "print('root mean squared logarithmic error: ', rmsle(y_pred, y_test))\n",
    "print('root mean squared logarithmic error: ', rmsle(newy_pred, newy_test))"
   ]
  },
  {
   "cell_type": "markdown",
   "metadata": {},
   "source": [
    "### Preparing Test File\n",
    "\n",
    "Now we prepare the test file to test the model on it."
   ]
  },
  {
   "cell_type": "code",
   "execution_count": 88,
   "metadata": {
    "collapsed": true
   },
   "outputs": [],
   "source": [
    "te = pd.read_csv('test.csv')\n",
    "\n",
    "serial = te['id']\n",
    "te_new = te.drop(labels = ['id', 'vendor_id', 'store_and_fwd_flag', 'passenger_count'], axis = 1)"
   ]
  },
  {
   "cell_type": "code",
   "execution_count": 89,
   "metadata": {
    "collapsed": true
   },
   "outputs": [],
   "source": [
    "te_new['pickup_datetime'] = pd.to_datetime(te_new['pickup_datetime'])"
   ]
  },
  {
   "cell_type": "code",
   "execution_count": 90,
   "metadata": {},
   "outputs": [
    {
     "data": {
      "text/plain": [
       "(625134, 5)"
      ]
     },
     "execution_count": 90,
     "metadata": {},
     "output_type": "execute_result"
    }
   ],
   "source": [
    "te_new.shape"
   ]
  },
  {
   "cell_type": "code",
   "execution_count": 91,
   "metadata": {},
   "outputs": [
    {
     "data": {
      "text/html": [
       "<div>\n",
       "<style>\n",
       "    .dataframe thead tr:only-child th {\n",
       "        text-align: right;\n",
       "    }\n",
       "\n",
       "    .dataframe thead th {\n",
       "        text-align: left;\n",
       "    }\n",
       "\n",
       "    .dataframe tbody tr th {\n",
       "        vertical-align: top;\n",
       "    }\n",
       "</style>\n",
       "<table border=\"1\" class=\"dataframe\">\n",
       "  <thead>\n",
       "    <tr style=\"text-align: right;\">\n",
       "      <th></th>\n",
       "      <th>pickup_longitude</th>\n",
       "      <th>pickup_latitude</th>\n",
       "      <th>dropoff_longitude</th>\n",
       "      <th>dropoff_latitude</th>\n",
       "      <th>month</th>\n",
       "      <th>weekday</th>\n",
       "      <th>day</th>\n",
       "      <th>hour</th>\n",
       "      <th>minute</th>\n",
       "    </tr>\n",
       "  </thead>\n",
       "  <tbody>\n",
       "    <tr>\n",
       "      <th>0</th>\n",
       "      <td>-73.988129</td>\n",
       "      <td>40.732029</td>\n",
       "      <td>-73.990173</td>\n",
       "      <td>40.756680</td>\n",
       "      <td>6</td>\n",
       "      <td>3</td>\n",
       "      <td>-74</td>\n",
       "      <td>23</td>\n",
       "      <td>59</td>\n",
       "    </tr>\n",
       "    <tr>\n",
       "      <th>1</th>\n",
       "      <td>-73.964203</td>\n",
       "      <td>40.679993</td>\n",
       "      <td>-73.959808</td>\n",
       "      <td>40.655403</td>\n",
       "      <td>6</td>\n",
       "      <td>3</td>\n",
       "      <td>-74</td>\n",
       "      <td>23</td>\n",
       "      <td>59</td>\n",
       "    </tr>\n",
       "    <tr>\n",
       "      <th>2</th>\n",
       "      <td>-73.997437</td>\n",
       "      <td>40.737583</td>\n",
       "      <td>-73.986160</td>\n",
       "      <td>40.729523</td>\n",
       "      <td>6</td>\n",
       "      <td>3</td>\n",
       "      <td>-74</td>\n",
       "      <td>23</td>\n",
       "      <td>59</td>\n",
       "    </tr>\n",
       "    <tr>\n",
       "      <th>3</th>\n",
       "      <td>-73.956070</td>\n",
       "      <td>40.771900</td>\n",
       "      <td>-73.986427</td>\n",
       "      <td>40.730469</td>\n",
       "      <td>6</td>\n",
       "      <td>3</td>\n",
       "      <td>-74</td>\n",
       "      <td>23</td>\n",
       "      <td>59</td>\n",
       "    </tr>\n",
       "    <tr>\n",
       "      <th>4</th>\n",
       "      <td>-73.970215</td>\n",
       "      <td>40.761475</td>\n",
       "      <td>-73.961510</td>\n",
       "      <td>40.755890</td>\n",
       "      <td>6</td>\n",
       "      <td>3</td>\n",
       "      <td>-74</td>\n",
       "      <td>23</td>\n",
       "      <td>59</td>\n",
       "    </tr>\n",
       "    <tr>\n",
       "      <th>5</th>\n",
       "      <td>-73.991302</td>\n",
       "      <td>40.749798</td>\n",
       "      <td>-73.980515</td>\n",
       "      <td>40.786549</td>\n",
       "      <td>6</td>\n",
       "      <td>3</td>\n",
       "      <td>-74</td>\n",
       "      <td>23</td>\n",
       "      <td>59</td>\n",
       "    </tr>\n",
       "    <tr>\n",
       "      <th>6</th>\n",
       "      <td>-73.978310</td>\n",
       "      <td>40.741550</td>\n",
       "      <td>-73.952072</td>\n",
       "      <td>40.717003</td>\n",
       "      <td>6</td>\n",
       "      <td>3</td>\n",
       "      <td>-74</td>\n",
       "      <td>23</td>\n",
       "      <td>59</td>\n",
       "    </tr>\n",
       "    <tr>\n",
       "      <th>7</th>\n",
       "      <td>-74.012711</td>\n",
       "      <td>40.701527</td>\n",
       "      <td>-73.986481</td>\n",
       "      <td>40.719509</td>\n",
       "      <td>6</td>\n",
       "      <td>3</td>\n",
       "      <td>-74</td>\n",
       "      <td>23</td>\n",
       "      <td>59</td>\n",
       "    </tr>\n",
       "    <tr>\n",
       "      <th>8</th>\n",
       "      <td>-73.992332</td>\n",
       "      <td>40.730511</td>\n",
       "      <td>-73.875618</td>\n",
       "      <td>40.875214</td>\n",
       "      <td>6</td>\n",
       "      <td>3</td>\n",
       "      <td>-74</td>\n",
       "      <td>23</td>\n",
       "      <td>58</td>\n",
       "    </tr>\n",
       "    <tr>\n",
       "      <th>9</th>\n",
       "      <td>-73.993179</td>\n",
       "      <td>40.748760</td>\n",
       "      <td>-73.979309</td>\n",
       "      <td>40.761311</td>\n",
       "      <td>6</td>\n",
       "      <td>3</td>\n",
       "      <td>-74</td>\n",
       "      <td>23</td>\n",
       "      <td>58</td>\n",
       "    </tr>\n",
       "  </tbody>\n",
       "</table>\n",
       "</div>"
      ],
      "text/plain": [
       "   pickup_longitude  pickup_latitude  dropoff_longitude  dropoff_latitude  \\\n",
       "0        -73.988129        40.732029         -73.990173         40.756680   \n",
       "1        -73.964203        40.679993         -73.959808         40.655403   \n",
       "2        -73.997437        40.737583         -73.986160         40.729523   \n",
       "3        -73.956070        40.771900         -73.986427         40.730469   \n",
       "4        -73.970215        40.761475         -73.961510         40.755890   \n",
       "5        -73.991302        40.749798         -73.980515         40.786549   \n",
       "6        -73.978310        40.741550         -73.952072         40.717003   \n",
       "7        -74.012711        40.701527         -73.986481         40.719509   \n",
       "8        -73.992332        40.730511         -73.875618         40.875214   \n",
       "9        -73.993179        40.748760         -73.979309         40.761311   \n",
       "\n",
       "   month  weekday  day  hour  minute  \n",
       "0      6        3  -74    23      59  \n",
       "1      6        3  -74    23      59  \n",
       "2      6        3  -74    23      59  \n",
       "3      6        3  -74    23      59  \n",
       "4      6        3  -74    23      59  \n",
       "5      6        3  -74    23      59  \n",
       "6      6        3  -74    23      59  \n",
       "7      6        3  -74    23      59  \n",
       "8      6        3  -74    23      58  \n",
       "9      6        3  -74    23      58  "
      ]
     },
     "execution_count": 91,
     "metadata": {},
     "output_type": "execute_result"
    }
   ],
   "source": [
    "#te_new['pickup_datetime'] = pd.to_datetime(te_new['pickup_datetime'])\n",
    "\n",
    "te_new['month'] = te_new.pickup_datetime.dt.month.astype(np.int8)\n",
    "te_new['weekday'] = te_new.pickup_datetime.dt.weekday.astype(np.int8)\n",
    "te_new['day'] = te_new.pickup_datetime.dt.dayofyear.astype(np.int8)\n",
    "te_new['hour'] = te_new.pickup_datetime.dt.hour.astype(np.int8)\n",
    "te_new['minute'] = te_new.pickup_datetime.dt.minute.astype(np.int8)\n",
    "\n",
    "te_new.drop(labels = ['pickup_datetime'], axis = 1, inplace = True)\n",
    "te_new.head(10)"
   ]
  },
  {
   "cell_type": "code",
   "execution_count": 92,
   "metadata": {},
   "outputs": [
    {
     "name": "stdout",
     "output_type": "stream",
     "text": [
      "<class 'pandas.core.frame.DataFrame'>\n",
      "RangeIndex: 625134 entries, 0 to 625133\n",
      "Data columns (total 9 columns):\n",
      "pickup_longitude     625134 non-null float64\n",
      "pickup_latitude      625134 non-null float64\n",
      "dropoff_longitude    625134 non-null float64\n",
      "dropoff_latitude     625134 non-null float64\n",
      "month                625134 non-null int8\n",
      "weekday              625134 non-null int8\n",
      "day                  625134 non-null int8\n",
      "hour                 625134 non-null int8\n",
      "minute               625134 non-null int8\n",
      "dtypes: float64(4), int8(5)\n",
      "memory usage: 22.1 MB\n"
     ]
    }
   ],
   "source": [
    "te_new.info()"
   ]
  },
  {
   "cell_type": "code",
   "execution_count": 93,
   "metadata": {
    "collapsed": true
   },
   "outputs": [],
   "source": [
    "#PREDICTION\n",
    "prediction = model2.predict(pd.concat([te_new], axis = 1))"
   ]
  },
  {
   "cell_type": "code",
   "execution_count": 94,
   "metadata": {
    "collapsed": true
   },
   "outputs": [],
   "source": [
    "#CREATE SUBMISSION FILE\n",
    "submission = pd.DataFrame({ 'id': serial, 'trip_duration': prediction })\n",
    "\n",
    "submission.to_csv(\"submission__.csv\", index=False)"
   ]
  },
  {
   "cell_type": "markdown",
   "metadata": {
    "collapsed": true
   },
   "source": [
    "### Conclusion\n",
    "\n",
    "While the Root Mean Squared Logarithmic Error implemented here gives a score of - 0.314. The score for this prediction file from Kaggle is \"0.54127\" an improvement on the Mean Duration Benchmark of 0.89365."
   ]
  },
  {
   "cell_type": "code",
   "execution_count": null,
   "metadata": {
    "collapsed": true
   },
   "outputs": [],
   "source": []
  }
 ],
 "metadata": {
  "kernelspec": {
   "display_name": "Python 3",
   "language": "python",
   "name": "python3"
  },
  "language_info": {
   "codemirror_mode": {
    "name": "ipython",
    "version": 3
   },
   "file_extension": ".py",
   "mimetype": "text/x-python",
   "name": "python",
   "nbconvert_exporter": "python",
   "pygments_lexer": "ipython3",
   "version": "3.6.1"
  }
 },
 "nbformat": 4,
 "nbformat_minor": 2
}
